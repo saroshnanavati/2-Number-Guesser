{
 "cells": [
  {
   "cell_type": "code",
   "execution_count": null,
   "id": "37671546",
   "metadata": {},
   "outputs": [],
   "source": [
    "import random\n",
    "\n",
    "top_of_range = input(\"Type a number: \")\n",
    "if top_of_range.isdigit():\n",
    "    top_of_range = int(top_of_range)\n",
    "    \n",
    "    if top_of_range <=0:\n",
    "        print(\"Please type a number greater than 0 next time.\")\n",
    "        quit()\n",
    "else:\n",
    "    print(\"Please type a number next time.\")\n",
    "    quit()\n",
    "    \n",
    "random_number = random.randint(0,top_of_range)\n",
    "guesses = 0\n",
    "\n",
    "while True:\n",
    "    guesses += 1\n",
    "    print(\"Guess the number between 0 and \",top_of_range)\n",
    "    guess = input(\"Your guess: \")\n",
    "    if guess.isdigit():\n",
    "        guess = int(guess)\n",
    "    else:\n",
    "        print(\"Please type a number next time.\")\n",
    "        continue\n",
    "    if guess == random_number:\n",
    "        print(\"You got it in \", guesses,\" guesses! Congrats!\")\n",
    "        break\n",
    "    elif guess > random_number:\n",
    "            print(\"You got it wrong!  You were above the number.\")\n",
    "    else:\n",
    "            print(\"You got it wrong!  You were below the number.\")"
   ]
  },
  {
   "cell_type": "code",
   "execution_count": null,
   "id": "90d62b97",
   "metadata": {},
   "outputs": [],
   "source": []
  }
 ],
 "metadata": {
  "kernelspec": {
   "display_name": "Python 3 (ipykernel)",
   "language": "python",
   "name": "python3"
  },
  "language_info": {
   "codemirror_mode": {
    "name": "ipython",
    "version": 3
   },
   "file_extension": ".py",
   "mimetype": "text/x-python",
   "name": "python",
   "nbconvert_exporter": "python",
   "pygments_lexer": "ipython3",
   "version": "3.9.7"
  }
 },
 "nbformat": 4,
 "nbformat_minor": 5
}
